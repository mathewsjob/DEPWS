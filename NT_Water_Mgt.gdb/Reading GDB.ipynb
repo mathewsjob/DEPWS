{
 "cells": [
  {
   "cell_type": "code",
   "execution_count": 1,
   "id": "5d7e6c2c-27d4-4526-932c-8c8ec8784b99",
   "metadata": {},
   "outputs": [],
   "source": [
    "# Reading a Geospatial Database"
   ]
  },
  {
   "cell_type": "code",
   "execution_count": 2,
   "id": "60b1631a-29c3-40a2-a09e-da2959b5a596",
   "metadata": {},
   "outputs": [],
   "source": [
    "# Importing Necessary Packages"
   ]
  },
  {
   "cell_type": "code",
   "execution_count": null,
   "id": "f9c23c86-b798-490c-9542-6519db8cd342",
   "metadata": {},
   "outputs": [],
   "source": [
    "%matplotlib tk\n",
    "import pystac_client, pickle, pyperclip, fiona\n",
    "import odc.stac\n",
    "import dask.distributed\n",
    "import dask.array\n",
    "import numpy as np\n",
    "import geopandas as gpd\n",
    "from IPython.display import JSON\n",
    "import matplotlib.pyplot as plt\n",
    "import rasterio as rio\n",
    "import xarray as xr"
   ]
  },
  {
   "cell_type": "code",
   "execution_count": null,
   "id": "0f8fd526-b0be-4b67-8bd7-670939faf111",
   "metadata": {},
   "outputs": [],
   "source": []
  }
 ],
 "metadata": {
  "kernelspec": {
   "display_name": "Python 3 (ipykernel)",
   "language": "python",
   "name": "python3"
  },
  "language_info": {
   "codemirror_mode": {
    "name": "ipython",
    "version": 3
   },
   "file_extension": ".py",
   "mimetype": "text/x-python",
   "name": "python",
   "nbconvert_exporter": "python",
   "pygments_lexer": "ipython3",
   "version": "3.10.9"
  }
 },
 "nbformat": 4,
 "nbformat_minor": 5
}
