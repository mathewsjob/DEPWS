{
 "cells": [
  {
   "cell_type": "code",
   "execution_count": 1,
   "id": "21d56cd3-bd8c-4dde-bd12-0c1353ef3672",
   "metadata": {},
   "outputs": [],
   "source": [
    "import pystac_client\n",
    "import pickle\n",
    "import pyperclip\n",
    "import fiona\n",
    "import odc.stac\n",
    "import dask.distributed\n",
    "import dask.array\n",
    "import numpy as np\n",
    "import geopandas as gpd\n",
    "from IPython.display import JSON\n",
    "import matplotlib.pyplot as plt\n",
    "import rasterio as rio\n",
    "import xarray as xr"
   ]
  },
  {
   "cell_type": "code",
   "execution_count": 2,
   "id": "b73b2084-775c-4b42-a3df-8b3d6358d358",
   "metadata": {},
   "outputs": [],
   "source": [
    "# Define study area"
   ]
  },
  {
   "cell_type": "code",
   "execution_count": 3,
   "id": "732795af-7162-4d1d-acf5-31639bef3b0e",
   "metadata": {},
   "outputs": [],
   "source": [
    "waps = gpd.read_file(\"NT_Water_Mgt.gdb\", layer='NT_PLAN_AREAS')\n",
    "bbox = waps[waps['PLAN_NAME'].str.contains(\"Katherine\")].geometry.total_bounds"
   ]
  },
  {
   "cell_type": "code",
   "execution_count": 4,
   "id": "8d00ac25-114f-44df-b02b-6e2c24b13d48",
   "metadata": {},
   "outputs": [],
   "source": [
    "# Start Dask cluster"
   ]
  },
  {
   "cell_type": "code",
   "execution_count": 5,
   "id": "b4fcdcd7-ea17-4460-a74f-97828d337570",
   "metadata": {},
   "outputs": [
    {
     "name": "stderr",
     "output_type": "stream",
     "text": [
      "C:\\Users\\mathe\\anaconda3\\lib\\site-packages\\distributed\\node.py:179: UserWarning: Port 8787 is already in use.\n",
      "Perhaps you already have a cluster running?\n",
      "Hosting the HTTP server on port 63418 instead\n",
      "  warnings.warn(\n"
     ]
    },
    {
     "name": "stdout",
     "output_type": "stream",
     "text": [
      "CPU times: total: 188 ms\n",
      "Wall time: 2.23 s\n"
     ]
    }
   ],
   "source": [
    "%time client = dask.distributed.Client(memory_limit='5GiB')\n",
    "odc.stac.configure_rio(cloud_defaults=True, aws={\"aws_unsigned\": True}, client=client)\n"
   ]
  },
  {
   "cell_type": "code",
   "execution_count": 6,
   "id": "1ebed66d-007a-4876-a091-0f2ed90752fc",
   "metadata": {},
   "outputs": [],
   "source": [
    "# Connect to DEA server"
   ]
  },
  {
   "cell_type": "code",
   "execution_count": 7,
   "id": "c1dc5eee-4061-451b-94fc-c72215516a2e",
   "metadata": {},
   "outputs": [
    {
     "name": "stdout",
     "output_type": "stream",
     "text": [
      "CPU times: total: 46.9 ms\n",
      "Wall time: 761 ms\n"
     ]
    }
   ],
   "source": [
    "%time catalog = pystac_client.Client.open('https://explorer.sandbox.dea.ga.gov.au/stac')\n"
   ]
  },
  {
   "cell_type": "code",
   "execution_count": 8,
   "id": "0cc1c72d-0638-4421-a439-9e8b1b7d7d32",
   "metadata": {},
   "outputs": [],
   "source": [
    "# Define search query"
   ]
  },
  {
   "cell_type": "code",
   "execution_count": 10,
   "id": "20cf0786-5090-4221-9340-17646d4b5e64",
   "metadata": {},
   "outputs": [
    {
     "name": "stdout",
     "output_type": "stream",
     "text": [
      "Found: 42 datasets\n"
     ]
    }
   ],
   "source": [
    "bbox = [131.6245, -15.1533, 132.7641, -14.3210]\n",
    "start_date = \"2015-12-01\"\n",
    "end_date = \"2023-12-01\"\n",
    "collections = ['ga_s2am_ard_3', 'ga_s2bm_ard_3']\n",
    "\n",
    "quarg = {\"query\":\n",
    "           {\"properties.eo:cloud_cover\": {\"lte\": 3},\n",
    "            \"properties.fmask:clear\": {\"gt\": 90}}\n",
    "        }\n",
    "\n",
    "query = catalog.search(\n",
    "    bbox=bbox, collections=collections, datetime=f\"{start_date}/{end_date}\", **quarg\n",
    ")\n",
    "\n",
    "items = list(query.item_collection())\n",
    "print(f\"Found: {len(items):d} datasets\")"
   ]
  },
  {
   "cell_type": "code",
   "execution_count": 11,
   "id": "043e34c1-e493-479b-b2cb-ca66ec310f6d",
   "metadata": {},
   "outputs": [],
   "source": [
    "# Load Sentinel-2 data"
   ]
  },
  {
   "cell_type": "code",
   "execution_count": null,
   "id": "167a2c5d-97b7-4505-a9ea-e6656e4bccab",
   "metadata": {},
   "outputs": [],
   "source": [
    "crs = \"EPSG:28353\"\n",
    "resolution = 30\n",
    "ds = odc.stac.load(\n",
    "    items,\n",
    "    bands=(\"nbart_red\", \"nbart_nir_1\"),\n",
    "    crs=crs,\n",
    "    resolution=resolution,\n",
    "    chunks={},\n",
    "    groupby=\"solar_day\",\n",
    "    bbox=bbox\n",
    ")"
   ]
  },
  {
   "cell_type": "code",
   "execution_count": null,
   "id": "6de2daaf-4da6-417c-bd42-a5f722a8a561",
   "metadata": {},
   "outputs": [],
   "source": [
    "# Calculate image completeness"
   ]
  },
  {
   "cell_type": "code",
   "execution_count": null,
   "id": "458517ae-7507-41fa-9586-a104c09a549d",
   "metadata": {},
   "outputs": [],
   "source": [
    "# %time ds[\"frac\"] = ds.nbart_red.count(dim=[\"x\", \"y\"]) / (ds.nbart_red.size / len(ds.time))"
   ]
  },
  {
   "cell_type": "code",
   "execution_count": null,
   "id": "3eec4575-6912-4f1b-9871-a5451b211135",
   "metadata": {},
   "outputs": [],
   "source": [
    "# # Subset to complete images\n",
    "# %time mFrac = ds.frac.values\n",
    "# ds[\"NDVI\"] = (ds.nbart_nir_1 - ds.nbart_red) / (ds.nbart_nir_1 + ds.nbart_red)\n",
    "# dsr = np.nan_to_num(ds.NDVI[mFrac > .9])\n",
    "\n",
    "# # Save results\n",
    "# with open(f\"ndvi-s2-30m.pkl\", 'wb') as of:\n",
    "#     pickle.dump(dsr, of)\n",
    "# with open(f\"ndvi-s2-30m-dates.pkl\", 'wb') as of:\n",
    "#     pickle.dump(ds.time[mFrac > .9], of)"
   ]
  },
  {
   "cell_type": "code",
   "execution_count": null,
   "id": "a9a55d25-0c38-465b-a5a4-6912aeb0e2c7",
   "metadata": {},
   "outputs": [],
   "source": [
    "# Compute Singular Value Decomposition (SVD)"
   ]
  },
  {
   "cell_type": "code",
   "execution_count": null,
   "id": "26241732-4b83-498d-afb7-c528f7020632",
   "metadata": {},
   "outputs": [],
   "source": [
    "# ...\n",
    "\n",
    "# Load Sentinel-2 data\n",
    "# ... (previous code remains the same)\n",
    "\n",
    "# Calculate image completeness\n",
    "ds[\"frac\"] = ds.nbart_red.count(dim=[\"x\", \"y\"]) / (ds.nbart_red.size / len(ds.time))\n",
    "\n",
    "# Subset to complete images\n",
    "%time mFrac = ds.frac.values\n",
    "ds[\"NDVI\"] = (ds.nbart_nir_1 - ds.nbart_red) / (ds.nbart_nir_1 + ds.nbart_red)\n",
    "%time dsr = np.nan_to_num(ds.NDVI[mFrac > .9])\n",
    "\n",
    "# Get spatial dimensions\n",
    "num_time_steps, height, width = dsr.shape\n",
    "\n",
    "# Reshape dsr to have the same dimensions as ds.x and ds.y\n",
    "dsr_reshaped = dsr.reshape(num_time_steps, height * width)\n",
    "\n",
    "# Save results\n",
    "with open(f\"ndvi-s2-30m.pkl\", 'wb') as of:\n",
    "    pickle.dump(dsr_reshaped, of)\n",
    "with open(f\"ndvi-s2-30m-dates.pkl\", 'wb') as of:\n",
    "    pickle.dump(ds.time[mFrac > .9], of)\n",
    "\n",
    "# ...\n"
   ]
  },
  {
   "cell_type": "code",
   "execution_count": null,
   "id": "1828594c-8005-4a4b-8c7b-21c370e42f88",
   "metadata": {},
   "outputs": [],
   "source": [
    "%time M = dsr.reshape(dsr.shape[0], -1)\n",
    "U, s, Vt = np.linalg.svd(M - M.mean(), full_matrices=False)"
   ]
  },
  {
   "cell_type": "code",
   "execution_count": null,
   "id": "9220a085-3a02-430a-827a-c639fe1b8251",
   "metadata": {},
   "outputs": [],
   "source": [
    "# Extract eigenvalues and components"
   ]
  },
  {
   "cell_type": "code",
   "execution_count": null,
   "id": "5d793fdf-84ef-4918-b9a8-b7149ae4affd",
   "metadata": {},
   "outputs": [],
   "source": [
    "s2 = s**2\n",
    "comp = 50\n",
    "print(f\"First {comp} components:\")\n",
    "print(\"\\n\".join([f\"{i+1:>3}: {j/s2.sum():>.4f} | {s2[:i+1].sum()/s2.sum():>.4f}\" \n",
    "                 for i, j in enumerate(s2[:comp])]))"
   ]
  },
  {
   "cell_type": "code",
   "execution_count": null,
   "id": "dd76185a-ce9a-4d1d-b23f-b4e390188c19",
   "metadata": {},
   "outputs": [],
   "source": [
    "# Write output to GeoTIFFs"
   ]
  },
  {
   "cell_type": "code",
   "execution_count": null,
   "id": "e74468b8-5b8c-4b45-b3d1-4318c6d5de43",
   "metadata": {},
   "outputs": [],
   "source": [
    "src_meta = {'driver': 'GTiff', 'dtype': 'float32', 'nodata': 0}\n",
    "src_meta['width'] = len(ds.x)\n",
    "src_meta['height'] = len(ds.y)\n",
    "src_meta['crs'] = rio.CRS.from_epsg(ds.spatial_ref)\n",
    "src_meta['transform'] = rio.Affine(resolution, 0.0, ds.x[0].values - resolution/2, \n",
    "                                   0.0, -resolution, ds.y[0].values + resolution/2)\n",
    "src_meta['count'] = 4\n",
    "\n",
    "%time eigs = Vt.reshape(dsr.shape)\n",
    "with rio.open(\"eigenlayers-s2-30.tif\", 'w', **src_meta) as dst:\n",
    "    for i in range(4):\n",
    "        tsImage = eigs[i]\n",
    "        dst.write(tsImage, i+1)\n",
    "\n",
    "with open(f\"ndvi-s2-30m-eigs.pkl\", 'wb') as of:\n",
    "    pickle.dump(eigs, of)\n",
    "\n",
    "# Load saved data\n",
    "with open(\"ndvi-s2-30m-eigs.pkl\", 'rb') as inf:\n",
    "    eigs = pickle.load(inf)\n",
    "with open(\"ndvi-s2-30m-dates.pkl\", 'rb') as inf:\n",
    "    dates = pickle.load(inf)\n",
    "with open(\"ndvi-s2-30m.pkl\", 'rb') as inf:\n",
    "    images = pickle.load(inf)"
   ]
  },
  {
   "cell_type": "code",
   "execution_count": null,
   "id": "42a2f36b-b0e5-44fb-9572-30f1f938e54a",
   "metadata": {},
   "outputs": [],
   "source": [
    "# Plot time series"
   ]
  },
  {
   "cell_type": "code",
   "execution_count": null,
   "id": "b651833c-440b-408b-98ba-f012f1544502",
   "metadata": {},
   "outputs": [],
   "source": [
    "fig, ax = plt.subplots(1, 1, figsize=(10, 4))\n",
    "for i in range(4):\n",
    "    ax.plot(dates, eigs[i], label=f'Comp. {i+1}')\n",
    "\n",
    "ax.set_title(\"Sentinel-2 Eigenvalues Over Time\")\n",
    "ax.set_xlabel(\"Date\")\n",
    "ax.set_ylabel(\"Eigenvalue\")\n",
    "ax.legend()\n",
    "plt.tight_layout()\n",
    "plt.show()"
   ]
  },
  {
   "cell_type": "code",
   "execution_count": null,
   "id": "6c96e802-5839-47e9-9751-d914218d47fb",
   "metadata": {},
   "outputs": [],
   "source": [
    "# Random Forest Classification"
   ]
  },
  {
   "cell_type": "code",
   "execution_count": null,
   "id": "755e404d-5b96-46d7-b87f-1a840afaf534",
   "metadata": {},
   "outputs": [],
   "source": [
    "from sklearn.ensemble import RandomForestClassifier\n",
    "from sklearn.model_selection import train_test_split\n",
    "from sklearn.metrics import accuracy_score, classification_report, confusion_matrix\n"
   ]
  },
  {
   "cell_type": "code",
   "execution_count": null,
   "id": "4188d647-cc04-4ed2-b506-fe8d87c42407",
   "metadata": {},
   "outputs": [],
   "source": [
    "# Load training data"
   ]
  },
  {
   "cell_type": "code",
   "execution_count": null,
   "id": "258d857d-7963-43c3-8832-5948af9d7cdd",
   "metadata": {},
   "outputs": [],
   "source": [
    "training_file = \"katherine_training_data.gpkg\"\n",
    "gdf = gpd.read_file(training_file)\n",
    "training_data = gdf.drop(columns=['geometry', 'class'])\n",
    "training_labels = gdf['class']"
   ]
  },
  {
   "cell_type": "code",
   "execution_count": null,
   "id": "f0e363c1-47d7-427e-86d5-eb44bcc0c93d",
   "metadata": {},
   "outputs": [],
   "source": [
    "# Train/test split"
   ]
  },
  {
   "cell_type": "code",
   "execution_count": null,
   "id": "6de86e88-8c33-4b62-b0dd-f7a4be7996cd",
   "metadata": {},
   "outputs": [],
   "source": [
    "X_train, X_test, y_train, y_test = train_test_split(training_data, training_labels, test_size=0.2, random_state=42)\n"
   ]
  },
  {
   "cell_type": "code",
   "execution_count": null,
   "id": "592c55f4-c5b2-45d9-a5a3-5eaf529d95a9",
   "metadata": {},
   "outputs": [],
   "source": [
    "# Random Forest classifier"
   ]
  },
  {
   "cell_type": "code",
   "execution_count": null,
   "id": "bf2435e9-5028-4df0-a8ab-fa8110eea7ea",
   "metadata": {},
   "outputs": [],
   "source": [
    "rf_classifier = RandomForestClassifier(n_estimators=100, random_state=42)\n",
    "rf_classifier.fit(X_train, y_train)"
   ]
  },
  {
   "cell_type": "code",
   "execution_count": null,
   "id": "43436ae1-52aa-4528-971a-c2ea4c5944d8",
   "metadata": {},
   "outputs": [],
   "source": [
    "# Predictions"
   ]
  },
  {
   "cell_type": "code",
   "execution_count": null,
   "id": "bb553d2c-eefb-41ff-b234-019959c06e64",
   "metadata": {},
   "outputs": [],
   "source": [
    "y_pred = rf_classifier.predict(X_test)"
   ]
  },
  {
   "cell_type": "code",
   "execution_count": null,
   "id": "08ad0b97-875e-4776-aad8-9e71a9d83cc0",
   "metadata": {},
   "outputs": [],
   "source": [
    "# Evaluation"
   ]
  },
  {
   "cell_type": "code",
   "execution_count": null,
   "id": "af8d8c82-3368-4032-8dac-b9bc3bfb5f56",
   "metadata": {},
   "outputs": [],
   "source": [
    "accuracy = accuracy_score(y_test, y_pred)\n",
    "conf_matrix = confusion_matrix(y_test, y_pred)\n",
    "classification_rep = classification_report(y_test, y_pred)"
   ]
  },
  {
   "cell_type": "code",
   "execution_count": null,
   "id": "2f6a7549-2ff1-471f-903c-055eba59d87f",
   "metadata": {},
   "outputs": [],
   "source": [
    "# Display results"
   ]
  },
  {
   "cell_type": "code",
   "execution_count": null,
   "id": "f912f3a1-7d4f-40a6-b4a2-40450810f5e6",
   "metadata": {},
   "outputs": [],
   "source": [
    "print(f\"Accuracy: {accuracy:.2f}\")\n",
    "print(\"\\nConfusion Matrix:\\n\", conf_matrix)\n",
    "print(\"\\nClassification Report:\\n\", classification_rep)"
   ]
  },
  {
   "cell_type": "code",
   "execution_count": null,
   "id": "80914582-3e1a-4ca5-999d-e704857549c7",
   "metadata": {},
   "outputs": [],
   "source": []
  },
  {
   "cell_type": "code",
   "execution_count": null,
   "id": "a5e8944f-e47e-42f8-98af-61e00c2ab468",
   "metadata": {},
   "outputs": [],
   "source": []
  }
 ],
 "metadata": {
  "kernelspec": {
   "display_name": "Python 3 (ipykernel)",
   "language": "python",
   "name": "python3"
  },
  "language_info": {
   "codemirror_mode": {
    "name": "ipython",
    "version": 3
   },
   "file_extension": ".py",
   "mimetype": "text/x-python",
   "name": "python",
   "nbconvert_exporter": "python",
   "pygments_lexer": "ipython3",
   "version": "3.10.9"
  }
 },
 "nbformat": 4,
 "nbformat_minor": 5
}
