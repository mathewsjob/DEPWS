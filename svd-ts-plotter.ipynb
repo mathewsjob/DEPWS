{
 "cells": [
  {
   "cell_type": "markdown",
   "id": "d986ca64-af91-4d85-b064-162f6ea087f7",
   "metadata": {},
   "source": [
    "# plot time series data from SVD analyses"
   ]
  },
  {
   "cell_type": "markdown",
   "id": "8685bb4d-7f5b-4831-8385-8460be230c37",
   "metadata": {},
   "source": [
    "This page assumes that an SVD analysis has been conducted of the project in this folder, and you now wish to simply plot the colour-coded time series from the `images` datacube, with `eigenvalues` providing the colour code."
   ]
  },
  {
   "cell_type": "code",
   "execution_count": 1,
   "id": "6fdf79dd-7e81-45fc-8831-b4157de96fac",
   "metadata": {
    "tags": []
   },
   "outputs": [],
   "source": [
    "%matplotlib tk\n",
    "import pystac_client, pickle, pyperclip\n",
    "import odc.stac\n",
    "import dask.distributed\n",
    "import dask.array\n",
    "import numpy as np\n",
    "import geopandas as gpd\n",
    "from IPython.display import JSON\n",
    "import matplotlib.pyplot as plt\n",
    "import rasterio as rio\n",
    "import xarray as xr"
   ]
  },
  {
   "cell_type": "markdown",
   "id": "2def8382-ffe8-4271-811d-110679afcb60",
   "metadata": {},
   "source": [
    "List the pickle files to see where `images` and `dates` will come from:"
   ]
  },
  {
   "cell_type": "code",
   "execution_count": 2,
   "id": "213ab71a-6ecd-4b1b-bb80-4612b180dd03",
   "metadata": {
    "tags": []
   },
   "outputs": [
    {
     "name": "stdout",
     "output_type": "stream",
     "text": [
      " Volume in drive C is Windows-SSD\n",
      " Volume Serial Number is 8680-F1B8\n",
      "\n",
      " Directory of c:\\Users\\mathe\\DEPWS\\katherine\\basemap\n",
      "\n",
      "\n",
      " Directory of c:\\Users\\mathe\\DEPWS\\katherine\\basemap\n",
      "\n",
      "16/10/2023  02:16 PM     4,338,261,481 ndvi-l8-30m.pkl\n",
      "16/10/2023  02:16 PM             4,082 ndvi-l8-30m-dates.pkl\n",
      "15/10/2023  07:56 PM             1,350 ndvi-mFrac-20231015.pkl\n",
      "17/01/2024  12:46 PM               227 ndvi-mFrac-20231015-30m.pkl\n",
      "16/10/2023  02:31 PM     4,338,261,481 ndvi-s2-10m-eigs.pkl\n",
      "17/01/2024  12:55 PM       258,230,005 ndvi-s2-30m.pkl\n",
      "17/01/2024  12:55 PM             2,812 ndvi-s2-30m-dates.pkl\n",
      "17/01/2024  01:05 PM       258,230,005 ndvi-s2-30m-eigs.pkl\n",
      "               8 File(s)  9,192,991,443 bytes\n",
      "               0 Dir(s)  682,628,554,752 bytes free\n"
     ]
    }
   ],
   "source": [
    "%ls -lh *.pkl"
   ]
  },
  {
   "cell_type": "markdown",
   "id": "97fbdf28-8f67-4491-9df5-5bc5ba1e084a",
   "metadata": {},
   "source": [
    "The image transformation and the eigenvector values come from a selected `svdComposite*.tif` layer in the project.  Refer to your `qgz` project to know which one to choose, and refer to it below:"
   ]
  },
  {
   "cell_type": "code",
   "execution_count": 3,
   "id": "d9a0365a-174a-4054-937f-2a466c151586",
   "metadata": {
    "tags": []
   },
   "outputs": [],
   "source": [
    "#load all the visuals if needed\n",
    "#with open(\"ndvi-s2-10m-eigs.pkl\", 'rb') as inf:\n",
    "#    eigs = pickle.load(inf)\n",
    "with open(\"ndvi-s2-30m-dates.pkl\", 'rb') as inf:\n",
    "    dates = pickle.load(inf)\n",
    "with open(\"ndvi-s2-30m.pkl\", 'rb') as inf:\n",
    "    images = pickle.load(inf)\n",
    "with rio.open(\"eigenlayers-s2-30.tif\") as src:\n",
    "    sTrans = src.transform\n",
    "    eigs = src.read()"
   ]
  },
  {
   "cell_type": "code",
   "execution_count": 4,
   "id": "0c3d6e52-0eed-48a7-a5c7-1ba833550f7a",
   "metadata": {},
   "outputs": [],
   "source": [
    "# get a color map of the three eigenvalues scaled to their eigenlayers\n",
    "# assign which eigenlayers go to each band\n",
    "cmp = {'red': 0, 'green': 1, 'blue': 2}\n",
    "flip = (1,-1, 1)\n",
    "eigr = lambda e: eigs[cmp[e]]\n",
    "    \n",
    "# stretch the range of the color band to +- 2 stddev\n",
    "stdRange = lambda e: {'min': eigr(e).mean() - eigr(e).std() * 2 * flip[cmp[e]],\n",
    "                      'max': eigr(e).mean() + eigr(e).std() * 2 * flip[cmp[e]]}\n",
    "# assign these ranges to a hash\n",
    "ranges = {i: stdRange(i) for i in cmp.keys()}\n",
    "    \n",
    "sclr = lambda  cl: (eigr(cl)[mr, mc] - ranges[cl]['min']) / \\\n",
    "                   (ranges[cl]['max'] - ranges[cl]['min'])\n",
    "\n",
    "\n",
    "def scmpfinder (mr, mc):\n",
    "    # how to compute a particular eigenvalue as a fraction of its range\n",
    "\n",
    "    # how to compute a particular eigenvalue as a fraction of its range\n",
    "    #sclr = lambda  cl: (eigs[cmp[cl], mr, mc] - ranges[cl]['min']) / \\\n",
    "    #        (ranges[cl]['max'] - ranges[cl]['min'])\n",
    "          \n",
    "    # create RGB colour list of the three ranges\n",
    "    scmp = [sclr(i) for i in cmp.keys()]\n",
    "    #scmp =  [sclr('red'), sclr('green'), sclr('blue')]\n",
    "    # and chop the bits that exceed [0:1]\n",
    "    for i, v in enumerate(scmp):\n",
    "        if v < 0.0: scmp[i] = 0.0\n",
    "        if v > 1.0: scmp[i] = 1.0\n",
    "        \n",
    "    return scmp\n"
   ]
  },
  {
   "cell_type": "code",
   "execution_count": 8,
   "id": "b9e5b49c-45fb-4677-85c6-690fe90ba204",
   "metadata": {
    "tags": []
   },
   "outputs": [
    {
     "name": "stdout",
     "output_type": "stream",
     "text": [
      "[197642.0, 8386894.0]\n",
      "(957, 2062)\n"
     ]
    },
    {
     "data": {
      "text/plain": [
       "<matplotlib.lines.Line2D at 0x28b0109f760>"
      ]
     },
     "execution_count": 8,
     "metadata": {},
     "output_type": "execute_result"
    }
   ],
   "source": [
    "# get the dates from the series\n",
    "#dates = [i.properties.date for i in gScenes]\n",
    "# set the plot limit to a fixed range\n",
    "plt.ylim(-.3,1)\n",
    "# get the matrix diminsions from the saved tif file\n",
    "#with rio.open(\"max_ndvi.tif\") as src:\n",
    "#sTrans = src_meta['transform']\n",
    "sTrans = src.transform\n",
    "\n",
    "# get the coordinates I wish to plot (currently in UTM53N)\n",
    "#coords = 280929.5,8361645.4\n",
    "# this gets the coordinates from the clipboard from QGIS.  It comes\n",
    "# as a string of two numbers separated by a comma, this turns it into \n",
    "# a pair of floating point numbers\n",
    "coords = [float(s) for s in pyperclip.paste().split(',')]\n",
    "print(coords)\n",
    "# translate these into row, col based on the raster tranform matrix\n",
    "# rowcol = rio.transform.rowcol(sTrans,*coords)\n",
    "rowcol = lambda r, c: rio.transform.rowcol(sTrans, r, c)\n",
    "print(rowcol(*coords))\n",
    "\n",
    "mr, mc = rowcol(*coords)\n",
    "# get the corresponding time series from the images matrix and plot it\n",
    "#mages[:, mr, mc]\n",
    "# get the colormap according to its eigenlayers, and plot\n",
    "scmp = scmpfinder(mr, mc)\n",
    "plt.plot(dates, np.ma.getdata(images[:, mr, mc]), color=scmp)\n",
    "\n",
    "plt.axhline(0, linestyle=':')\n"
   ]
  },
  {
   "cell_type": "code",
   "execution_count": 6,
   "id": "db0df73a-e115-4f53-9b21-db445b0e0285",
   "metadata": {
    "tags": []
   },
   "outputs": [],
   "source": [
    "plt.clf()"
   ]
  },
  {
   "cell_type": "code",
   "execution_count": 7,
   "id": "a4075322-0569-452d-8d4c-25d095563c5b",
   "metadata": {
    "tags": []
   },
   "outputs": [
    {
     "data": {
      "text/plain": [
       "'226381,8369924'"
      ]
     },
     "execution_count": 7,
     "metadata": {},
     "output_type": "execute_result"
    }
   ],
   "source": [
    "pyperclip.paste()"
   ]
  },
  {
   "cell_type": "code",
   "execution_count": null,
   "id": "6ed1310b-9bd3-485e-b26a-ef4656e3079a",
   "metadata": {},
   "outputs": [],
   "source": []
  }
 ],
 "metadata": {
  "kernelspec": {
   "display_name": "Python 3 (ipykernel)",
   "language": "python",
   "name": "python3"
  },
  "language_info": {
   "codemirror_mode": {
    "name": "ipython",
    "version": 3
   },
   "file_extension": ".py",
   "mimetype": "text/x-python",
   "name": "python",
   "nbconvert_exporter": "python",
   "pygments_lexer": "ipython3",
   "version": "3.10.9"
  }
 },
 "nbformat": 4,
 "nbformat_minor": 5
}
